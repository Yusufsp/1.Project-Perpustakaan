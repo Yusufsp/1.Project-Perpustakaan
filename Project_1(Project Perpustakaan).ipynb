{
 "cells": [
  {
   "cell_type": "markdown",
   "id": "e634b102",
   "metadata": {},
   "source": [
    "# Project I\n",
    "## Perpustakaan"
   ]
  },
  {
   "cell_type": "code",
   "execution_count": 1,
   "id": "9bc12c0a",
   "metadata": {},
   "outputs": [],
   "source": [
    "#Create the book's name list\n",
    "Nama_buku1=\"Fisika\"\n",
    "Nama_buku2='Matematika'\n",
    "Nama_buku3='Kimia'\n",
    "Nama_buku4='Biology'\n",
    "#Create the book's code list\n",
    "Kode_buku1='PS_001'\n",
    "Kode_buku2='PS_002'\n",
    "Kode_buku3='PS_003'\n",
    "Kode_buku4='PS_004'\n",
    "#Create total book's number\n",
    "Jumlah_buku1=Jumlah_buku2=Jumlah_buku3=Jumlah_buku4=10\n",
    "#Create my dictionary\n",
    "Nama_buku=[Nama_buku1,Nama_buku2,Nama_buku3,Nama_buku4]\n",
    "Kode_buku=[Kode_buku1,Kode_buku2,Kode_buku3,Kode_buku4]\n",
    "Jumlah_buku=[Jumlah_buku1,Jumlah_buku2,Jumlah_buku3,Jumlah_buku4]\n",
    "Pustaka={'Judul':Nama_buku,\n",
    "        'Kode':Kode_buku,\n",
    "        'Jumlah':Jumlah_buku}\n",
    "#Duration\n",
    "durasi=3"
   ]
  },
  {
   "cell_type": "code",
   "execution_count": 2,
   "id": "e7c55c4d",
   "metadata": {},
   "outputs": [
    {
     "data": {
      "text/plain": [
       "{'Judul': ['Fisika', 'Matematika', 'Kimia', 'Biology'],\n",
       " 'Kode': ['PS_001', 'PS_002', 'PS_003', 'PS_004'],\n",
       " 'Jumlah': [10, 10, 10, 10]}"
      ]
     },
     "execution_count": 2,
     "metadata": {},
     "output_type": "execute_result"
    }
   ],
   "source": [
    "Pustaka"
   ]
  },
  {
   "cell_type": "code",
   "execution_count": 9,
   "id": "e58a4298",
   "metadata": {},
   "outputs": [
    {
     "name": "stdout",
     "output_type": "stream",
     "text": [
      "Buku Seni dengan jumlah 3\n"
     ]
    }
   ],
   "source": [
    "#Adding Dictionary\n",
    "Pustaka['Judul'].append('Seni')\n",
    "Pustaka['Kode'].append('PS_005')\n",
    "Pustaka['Jumlah'].append(3)\n",
    "print(\"Buku {} dengan jumlah {}\".format(Pustaka[\"Judul\"][-1], Pustaka['Jumlah'][-1]))"
   ]
  },
  {
   "cell_type": "code",
   "execution_count": 45,
   "id": "e8ab9f26",
   "metadata": {},
   "outputs": [
    {
     "data": {
      "text/plain": [
       "{'Judul': ['Fisika', 'Matematika', 'Kimia', 'Biology', 'Seni'],\n",
       " 'Kode': ['PS_001', 'PS_002', 'PS_003', 'PS_004', 'PS_005'],\n",
       " 'Jumlah': [9, 9, 10, 10, 1]}"
      ]
     },
     "execution_count": 45,
     "metadata": {},
     "output_type": "execute_result"
    }
   ],
   "source": [
    "Pustaka"
   ]
  },
  {
   "cell_type": "markdown",
   "id": "b9b7aeb9",
   "metadata": {},
   "source": [
    "### Form Ketersediaan Buku"
   ]
  },
  {
   "cell_type": "code",
   "execution_count": 5,
   "id": "063ca2f7",
   "metadata": {},
   "outputs": [
    {
     "name": "stdout",
     "output_type": "stream",
     "text": [
      "BUKU YANG TERSEDIA\n",
      "\n",
      "Nama buku\t\tKode\t\tJumlah\n",
      "Buku Fisika\t\tPS_001\t\t10\n",
      "Buku Matematika\t\tPS_002\t\t10\n",
      "Buku Kimia\t\tPS_003\t\t10\n",
      "Buku Biology\t\tPS_004\t\t10\n",
      "Buku Seni\t\tPS_005\t\t1\n"
     ]
    }
   ],
   "source": [
    "print('BUKU YANG TERSEDIA\\n')\n",
    "print('Nama buku\\t\\tKode\\t\\tJumlah')\n",
    "for i in range(len(Pustaka['Judul'])):\n",
    "    print('Buku {}\\t\\t{}\\t\\t{}'.format(\n",
    "         Pustaka['Judul'][i],\n",
    "         Pustaka['Kode'][i],\n",
    "         Pustaka['Jumlah'][i]))"
   ]
  },
  {
   "cell_type": "markdown",
   "id": "f027aff2",
   "metadata": {},
   "source": [
    "### Form Peminjaman"
   ]
  },
  {
   "cell_type": "code",
   "execution_count": 44,
   "id": "e23d0256",
   "metadata": {},
   "outputs": [
    {
     "name": "stdout",
     "output_type": "stream",
     "text": [
      "Form Peminjaman\n",
      "Nama Peminjam\t = H\n",
      "Kode Buku\t = PS_005\n",
      "Tidak bisa dipinjam\n",
      "Kode Salah\n"
     ]
    }
   ],
   "source": [
    "print(\"Form Peminjaman\") \n",
    "varNama=str(input(\"Nama Peminjam\\t = \")) \n",
    "varBuku=str(input(\"Kode Buku\\t = \")) \n",
    "ada=False\n",
    "for i in range(len(Pustaka['Kode'])):\n",
    "    if varBuku==Pustaka['Kode'][i] :\n",
    "        if Pustaka['Jumlah'][i]>1:\n",
    "            ada=True\n",
    "            Pustaka['Jumlah'][i]-=1\n",
    "            break\n",
    "        else:\n",
    "            print('Tidak bisa dipinjam')          \n",
    "if ada:\n",
    "    print('Bisa pinjam')\n",
    "else:\n",
    "    print(\"Kode Salah\")"
   ]
  },
  {
   "cell_type": "code",
   "execution_count": 50,
   "id": "fa3627fc",
   "metadata": {},
   "outputs": [
    {
     "data": {
      "text/plain": [
       "{'Judul': ['Fisika', 'Matematika', 'Kimia', 'Biology', 'Seni'],\n",
       " 'Kode': ['PS_001', 'PS_002', 'PS_003', 'PS_004', 'PS_005'],\n",
       " 'Jumlah': [9, 9, 10, 10, 4]}"
      ]
     },
     "execution_count": 50,
     "metadata": {},
     "output_type": "execute_result"
    }
   ],
   "source": [
    "Pustaka"
   ]
  },
  {
   "cell_type": "markdown",
   "id": "b76bb064",
   "metadata": {},
   "source": [
    "### Form Pengembalian"
   ]
  },
  {
   "cell_type": "markdown",
   "id": "0b7e6db8",
   "metadata": {},
   "source": [
    "#### versi 1"
   ]
  },
  {
   "cell_type": "code",
   "execution_count": 52,
   "id": "57b7c108",
   "metadata": {},
   "outputs": [
    {
     "name": "stdout",
     "output_type": "stream",
     "text": [
      "Form Pengembalian\n",
      "Nama Peminjam\t\t = F\n",
      "Kode Buku\t\t = PS_001\n",
      "Berapa hari pinjam\t = 2\n",
      "Termakasih telah mengembalikan buku Fisika\n"
     ]
    }
   ],
   "source": [
    "print('Form Pengembalian')\n",
    "NamaPeminjam=str(input('Nama Peminjam\\t\\t = '))\n",
    "KodeBuku=str(input('Kode Buku\\t\\t = '))\n",
    "Waktu=int(input('Berapa hari pinjam\\t = '))\n",
    "for i in range(len(Pustaka['Kode'])):\n",
    "    if KodeBuku==Pustaka['Kode'][i]: \n",
    "        if Waktu>durasi :\n",
    "            denda=(Waktu-durasi)*1000\n",
    "            print('Termakasih telah mengembalikan buku {}'.format(Pustaka['Judul'][i]))\n",
    "            print('Denda Rp {}'.format(denda))\n",
    "            Pustaka['Jumlah'][i]+=1\n",
    "            break\n",
    "        else:\n",
    "            print('Termakasih telah mengembalikan buku {}'.format(Pustaka['Judul'][i]))\n",
    "            Pustaka['Jumlah'][i]+=1\n",
    "            break\n",
    "else:\n",
    "    print('Kode buku salah')        "
   ]
  },
  {
   "cell_type": "markdown",
   "id": "b3c5d590",
   "metadata": {},
   "source": [
    "#### versi 2"
   ]
  },
  {
   "cell_type": "code",
   "execution_count": 61,
   "id": "54a2bce2",
   "metadata": {},
   "outputs": [
    {
     "name": "stdout",
     "output_type": "stream",
     "text": [
      "Form Pengembalian\n",
      "Nama Peminjam\t\t = F\n",
      "Kode Buku\t\t = PS_002\n",
      "Berapa hari pinjam\t = 7\n",
      "Denda Rp 4000\n",
      "Termakasih telah mengembalikan buku Matematika\n"
     ]
    }
   ],
   "source": [
    "print('Form Pengembalian')\n",
    "NamaPeminjam=str(input('Nama Peminjam\\t\\t = '))\n",
    "KodeBuku=str(input('Kode Buku\\t\\t = '))\n",
    "Waktu=int(input('Berapa hari pinjam\\t = '))\n",
    "ada=False\n",
    "for i in range(len(Pustaka['Kode'])):\n",
    "    if KodeBuku==Pustaka['Kode'][i]: \n",
    "        ada=True\n",
    "        if Waktu>durasi:\n",
    "            denda=(Waktu-durasi)*1000\n",
    "            print('Denda Rp {}'.format(denda))\n",
    "            break\n",
    "if ada:\n",
    "    print('Termakasih telah mengembalikan buku {}'.format(Pustaka['Judul'][i]))\n",
    "    Pustaka['Jumlah'][i]+=1\n",
    "else:\n",
    "    print('Kode buku salah')   "
   ]
  },
  {
   "cell_type": "markdown",
   "id": "1e54f870",
   "metadata": {},
   "source": [
    "#### Function version"
   ]
  },
  {
   "cell_type": "code",
   "execution_count": 62,
   "id": "bdb018f0",
   "metadata": {},
   "outputs": [],
   "source": [
    "def Pengembalian():\n",
    "    print('Form Pengembalian')\n",
    "    NamaPeminjam=str(input('Nama Peminjam\\t\\t = '))\n",
    "    KodeBuku=str(input('Kode Buku\\t\\t = '))\n",
    "    Waktu=int(input('Berapa hari pinjam\\t = '))\n",
    "    ada=False\n",
    "    for i in range(len(Pustaka['Kode'])):\n",
    "        if KodeBuku==Pustaka['Kode'][i]: \n",
    "            ada=True\n",
    "            if Waktu>durasi:\n",
    "                denda=(Waktu-durasi)*1000\n",
    "                print('Denda Rp {}'.format(denda))\n",
    "                break\n",
    "    if ada:\n",
    "        print('Termakasih telah mengembalikan buku {}'.format(Pustaka['Judul'][i]))\n",
    "        Pustaka['Jumlah'][i]+=1\n",
    "    else:\n",
    "        print('Kode buku salah')  "
   ]
  },
  {
   "cell_type": "code",
   "execution_count": 63,
   "id": "4262bdb7",
   "metadata": {},
   "outputs": [
    {
     "name": "stdout",
     "output_type": "stream",
     "text": [
      "Form Pengembalian\n",
      "Nama Peminjam\t\t = A\n",
      "Kode Buku\t\t = PS_002\n",
      "Berapa hari pinjam\t = 9\n",
      "Denda Rp 6000\n",
      "Termakasih telah mengembalikan buku Matematika\n"
     ]
    }
   ],
   "source": [
    "Pengembalian()"
   ]
  },
  {
   "cell_type": "code",
   "execution_count": null,
   "id": "33437982",
   "metadata": {},
   "outputs": [],
   "source": []
  }
 ],
 "metadata": {
  "kernelspec": {
   "display_name": "Python 3 (ipykernel)",
   "language": "python",
   "name": "python3"
  },
  "language_info": {
   "codemirror_mode": {
    "name": "ipython",
    "version": 3
   },
   "file_extension": ".py",
   "mimetype": "text/x-python",
   "name": "python",
   "nbconvert_exporter": "python",
   "pygments_lexer": "ipython3",
   "version": "3.9.12"
  }
 },
 "nbformat": 4,
 "nbformat_minor": 5
}
